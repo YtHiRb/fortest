{
 "cells": [
  {
   "cell_type": "code",
   "execution_count": 9,
   "metadata": {},
   "outputs": [],
   "source": [
    "from PIL import Image\n",
    "import os, glob\n",
    "import numpy as np\n",
    "# from sklearn import cross_validation\n",
    "import sklearn.model_selection as cross_validation\n",
    "\n",
    "classes = [\"monkey\", \"boar\", \"crow\"]\n",
    "img_size = 50\n",
    "\n",
    "X = []\n",
    "y = []\n",
    "\n",
    "for i, class_ in enumerate(classes):\n",
    "    path = \"./env_for_api/\" + class_ + \"/\"\n",
    "    file = glob.glob(path + \"*.jpg\")\n",
    "    for j, f in enumerate(file):\n",
    "        if j > 150:\n",
    "            break\n",
    "        img = Image.open(f).convert(\"RGB\").resize((img_size,img_size))\n",
    "        img = np.asarray(img)\n",
    "        X.append(img)\n",
    "        y.append(i)\n",
    "\n",
    "X = np.array(X)\n",
    "y = np.array(y)"
   ]
  },
  {
   "cell_type": "code",
   "execution_count": 8,
   "metadata": {},
   "outputs": [
    {
     "ename": "SyntaxError",
     "evalue": "invalid syntax (666995984.py, line 9)",
     "output_type": "error",
     "traceback": [
      "\u001b[0;36m  Cell \u001b[0;32mIn [8], line 9\u001b[0;36m\u001b[0m\n\u001b[0;31m    def main()\u001b[0m\n\u001b[0m              ^\u001b[0m\n\u001b[0;31mSyntaxError\u001b[0m\u001b[0;31m:\u001b[0m invalid syntax\n"
     ]
    }
   ],
   "source": [
    "from keras.models import Sequential\n",
    "from keras.layers import Conv2D, MaxPooling2D\n",
    "from keras.layers import Activation, Dropout, Flatten, Dense\n",
    "from keras.utils import np_utils\n",
    "from keras import optimizers\n",
    "\n",
    "n_classes = len(classes)\n",
    "\n",
    "def main():\n",
    "    X_train, X_test, y_train, y_test = cross_validation.train_test_split(X, y, stratify=y)\n",
    "    X_train = X_train.astype(float) / 255\n",
    "    X_test = X_test.astype(float) / 255\n",
    "    y_train = np_utils.to_categorical(y_train, n_classes)\n",
    "    y_test = np_utils.to_categorical(y_test, n_classes)\n",
    "    \n",
    "    model = model_train(X_train, y_train)\n",
    "    model_eval(model, X_test, y_test)"
   ]
  },
  {
   "cell_type": "code",
   "execution_count": 7,
   "metadata": {},
   "outputs": [],
   "source": [
    "def model_train(X, y):\n",
    "    model = Sequential()\n",
    "    model.add(Conv2D(32,(3,3),padding=\"same\",input_shape=X.shape[1:]))\n",
    "    model.add(Activation(\"relu\"))\n",
    "    model.add(Conv2D(32,(3,3)))\n",
    "    model.add(Activation(\"relu\"))\n",
    "    model.add(MaxPooling2D(pool_size=(2,2)))\n",
    "    model.add(Dropout(0.25))\n",
    "\n",
    "    model.add(Conv2D(64,(3,3),padding=\"same\"))\n",
    "    model.add(Activation(\"relu\"))\n",
    "    model.add(Conv2D(64,(3,3)))\n",
    "    model.add(Activation(\"relu\"))\n",
    "    model.add(MaxPooling2D(pool_size=(2,2)))\n",
    "\n",
    "    model.add(Flatten())\n",
    "    model.add(Dense(512))\n",
    "    model.add(Activation(\"relu\"))\n",
    "    model.add(Dropout(0.5))\n",
    "    model.add(Dense(3))\n",
    "    model.add(Activation(\"softmax\"))\n",
    "\n",
    "    opt = optimizers.rmsprop(lr=0.0001, decay=1e-6)\n",
    "    model.compile(loss=\"categorical_crossentropy\",\n",
    "                  optimizer=opt,\n",
    "                  metrics=[\"accuracy\"])\n",
    "\n",
    "    model.fit(X, y, batchsize=32, epochs=50)\n",
    "    return model"
   ]
  },
  {
   "cell_type": "code",
   "execution_count": null,
   "metadata": {},
   "outputs": [],
   "source": [
    "def model_eval(model, X, y):\n",
    "    scores = model.evaluate(X, y, verbose=1)\n",
    "    print(\"test loss:\",scores[0])\n",
    "    print(\"test accuracy:\",scores[1])"
   ]
  },
  {
   "cell_type": "code",
   "execution_count": null,
   "metadata": {},
   "outputs": [],
   "source": [
    "if __name__ == \"__main__\":\n",
    "    main()"
   ]
  }
 ],
 "metadata": {
  "kernelspec": {
   "display_name": "Python 3.8.5 ('env_for_api': venv)",
   "language": "python",
   "name": "python3"
  },
  "language_info": {
   "codemirror_mode": {
    "name": "ipython",
    "version": 3
   },
   "file_extension": ".py",
   "mimetype": "text/x-python",
   "name": "python",
   "nbconvert_exporter": "python",
   "pygments_lexer": "ipython3",
   "version": "3.8.5"
  },
  "orig_nbformat": 4,
  "vscode": {
   "interpreter": {
    "hash": "0ae5b2d15c732bd29f17ace1f461c9a8dfbcedefc2b6aeaa519f42e4c4a9d0d4"
   }
  }
 },
 "nbformat": 4,
 "nbformat_minor": 2
}
