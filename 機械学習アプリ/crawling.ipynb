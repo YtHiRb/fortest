{
 "cells": [
  {
   "cell_type": "code",
   "execution_count": 1,
   "metadata": {},
   "outputs": [],
   "source": [
    "#これで作ったぞ\n",
    "from flickrapi import FlickrAPI\n",
    "from urllib.request import urlretrieve\n",
    "from pprint import pprint\n",
    "import os, time, sys"
   ]
  },
  {
   "cell_type": "code",
   "execution_count": 2,
   "metadata": {},
   "outputs": [],
   "source": [
    "path = \"env_for_api/.flkr/flkr.txt\"\n",
    "with open(path) as f:\n",
    "    kands = f.read().split(\"\\n\")\n",
    "key = kands[1]\n",
    "secret = kands[4]\n",
    "#print(key,secret)\n",
    "wait_time = 1#1秒待ってからrequestする\n",
    "\n",
    "#保存フォルダの設定\n",
    "animal = sys.argv[1]#コマンドラインの1番目\n",
    "#python crawling.py boarとかって打った時、pythonプログラムが受け取るsys.argvは\n",
    "#[\"crawling.py\",\"boar\"]となる\n",
    "save_dir = animal"
   ]
  },
  {
   "cell_type": "code",
   "execution_count": 11,
   "metadata": {},
   "outputs": [
    {
     "name": "stdout",
     "output_type": "stream",
     "text": [
      "'page'\n"
     ]
    }
   ],
   "source": [
    "flicker = FlickrAPI(key, secret, format = 'parsed-json')\n",
    "result = flicker.photos.search(\n",
    "    text = animal,\n",
    "    per_page = 400,\n",
    "    media = 'photos',\n",
    "    sort = 'relevance',\n",
    "    safe_search = 1,\n",
    "    extras = 'url_q, licence'\n",
    ")\n",
    "# pprint(result)\n",
    "photos = result['photos']\n",
    "# pprint(photos)\n",
    "\n",
    "# for i, photo in enumerate(photos):\n",
    "#     url = photo['url_q']\n",
    "#     file_path = save_dir + \"/\" + photo[\"id\"] + \".jpg\"\n",
    "#     if os.path.exists(file_path) == True:\n",
    "#         continue\n",
    "#     urlretrieve(url, file_path)\n",
    "#     time.sleep(wait_time)\n",
    "\n",
    "photo0 = next(iter(photos))\n",
    "pprint(photo0)"
   ]
  },
  {
   "cell_type": "code",
   "execution_count": 16,
   "metadata": {},
   "outputs": [
    {
     "name": "stdout",
     "output_type": "stream",
     "text": [
      "{'farm': 8,\n",
      " 'height_q': 150,\n",
      " 'id': '29636098833',\n",
      " 'isfamily': 0,\n",
      " 'isfriend': 0,\n",
      " 'ispublic': 1,\n",
      " 'owner': '23187053@N04',\n",
      " 'secret': '11a4e414e9',\n",
      " 'server': '7467',\n",
      " 'title': 'Mariamolen - Haps- Noord Brabant',\n",
      " 'url_q': 'https://live.staticflickr.com/7467/29636098833_11a4e414e9_q.jpg',\n",
      " 'width_q': 150}\n",
      "{'farm': 1,\n",
      " 'height_q': 150,\n",
      " 'id': '30937421923',\n",
      " 'isfamily': 0,\n",
      " 'isfriend': 0,\n",
      " 'ispublic': 1,\n",
      " 'owner': '47290259@N06',\n",
      " 'secret': '05075dde48',\n",
      " 'server': '434',\n",
      " 'title': 'The Eutin Castle at night',\n",
      " 'url_q': 'https://live.staticflickr.com/434/30937421923_05075dde48_q.jpg',\n",
      " 'width_q': 150}\n",
      "{'farm': 9,\n",
      " 'height_q': 150,\n",
      " 'id': '28638635091',\n",
      " 'isfamily': 0,\n",
      " 'isfriend': 0,\n",
      " 'ispublic': 1,\n",
      " 'owner': '23187053@N04',\n",
      " 'secret': '017191ae02',\n",
      " 'server': '8724',\n",
      " 'title': 'De Regge',\n",
      " 'url_q': 'https://live.staticflickr.com/8724/28638635091_017191ae02_q.jpg',\n",
      " 'width_q': 150}\n",
      "{'farm': 6,\n",
      " 'height_q': 150,\n",
      " 'id': '30057090470',\n",
      " 'isfamily': 0,\n",
      " 'isfriend': 0,\n",
      " 'ispublic': 1,\n",
      " 'owner': '94568988@N08',\n",
      " 'secret': 'b91f7f6c5e',\n",
      " 'server': '5632',\n",
      " 'title': 'Time for a break',\n",
      " 'url_q': 'https://live.staticflickr.com/5632/30057090470_b91f7f6c5e_q.jpg',\n",
      " 'width_q': 150}\n"
     ]
    }
   ],
   "source": [
    "for i, photo in enumerate(photos[\"photo\"]):\n",
    "    if i>3:\n",
    "        break\n",
    "    pprint(photo)\n",
    "    # url = photo['url_q']\n",
    "    # file_path = save_dir + \"/\" + photo[\"id\"] + \".jpg\"\n",
    "    # if os.path.exists(file_path) == True:\n",
    "    #     continue\n",
    "    # urlretrieve(url, file_path)\n",
    "    # time.sleep(wait_time)"
   ]
  },
  {
   "cell_type": "code",
   "execution_count": 10,
   "metadata": {},
   "outputs": [
    {
     "name": "stdout",
     "output_type": "stream",
     "text": [
      "a b\n"
     ]
    }
   ],
   "source": [
    "dict = {\"a\":1,\"b\":2,\"c\":3,\"d\":4}\n",
    "it = iter(dict)\n",
    "print(next(it),next(it))\n"
   ]
  },
  {
   "cell_type": "code",
   "execution_count": null,
   "metadata": {},
   "outputs": [],
   "source": []
  }
 ],
 "metadata": {
  "kernelspec": {
   "display_name": "Python 3.8.5 ('env_for_api': venv)",
   "language": "python",
   "name": "python3"
  },
  "language_info": {
   "codemirror_mode": {
    "name": "ipython",
    "version": 3
   },
   "file_extension": ".py",
   "mimetype": "text/x-python",
   "name": "python",
   "nbconvert_exporter": "python",
   "pygments_lexer": "ipython3",
   "version": "3.8.5"
  },
  "orig_nbformat": 4,
  "vscode": {
   "interpreter": {
    "hash": "0ae5b2d15c732bd29f17ace1f461c9a8dfbcedefc2b6aeaa519f42e4c4a9d0d4"
   }
  }
 },
 "nbformat": 4,
 "nbformat_minor": 2
}
